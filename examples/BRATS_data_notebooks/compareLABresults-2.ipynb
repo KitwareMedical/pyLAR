{
 "cells": [
  {
   "cell_type": "markdown",
   "metadata": {},
   "source": [
    "**Data not available, this file only serves as an illustration.**\n",
    "\n",
    "Beware, if you run the cells, you will get errors and will loose the images.\n",
    "To avoid this problem, you could replace the input data names."
   ]
  },
  {
   "cell_type": "code",
   "execution_count": 2,
   "metadata": {
    "collapsed": false
   },
   "outputs": [],
   "source": [
    "import glob\n",
    "import sys\n",
    "import os.path\n",
    "sys.path.append('../../')\n",
    "from pyLAR import *\n",
    "import SimpleITK as sitk"
   ]
  },
  {
   "cell_type": "code",
   "execution_count": 2,
   "metadata": {
    "collapsed": false
   },
   "outputs": [
    {
     "name": "stdout",
     "output_type": "stream",
     "text": [
      "0.0088227\n",
      "0.0071314\n"
     ]
    }
   ],
   "source": [
    "# Tumor Sim BRATS T1\n",
    "\n",
    "inputIm = '/Users/xiaoxiaoliu/work/data/BRATS/BRATS-2/Synthetic_Data/results/T1/MI/UAB_T1_8Inputs_MI/L0_Iter5_atlas.nrrd'\n",
    "gtAtlasImage = '/Users/xiaoxiaoliu/work/data/SRI24/T1_Crop.nii.gz'\n",
    "outTransformationPrefix = '/Users/xiaoxiaoliu/work/data/BRATS/BRATS-2/Synthetic_Data/results/compare_to_SRI24/new_UAB_T1_8Inputs_MI'\n",
    "\n",
    "c = geodesicDistance3D(inputIm, gtAtlasImage,outTransformationPrefix )\n",
    "print c\n",
    "\n",
    "\n",
    "inputIm = '/Users/xiaoxiaoliu/work/data/BRATS/BRATS-2/Synthetic_Data/results/T1/MI/LAB_T1_8Inputs_MI/L0_Iter5_atlas.nrrd'\n",
    "gtAtlasImage = '/Users/xiaoxiaoliu/work/data/SRI24/T1_Crop.nii.gz'\n",
    "outTransformationPrefix = '/Users/xiaoxiaoliu/work/data/BRATS/BRATS-2/Synthetic_Data/results/compare_to_SRI24/new_LAB_T1_8Inputs_MI'\n",
    "\n",
    "d = geodesicDistance3D(inputIm, gtAtlasImage,outTransformationPrefix )\n",
    "print d\n"
   ]
  },
  {
   "cell_type": "code",
   "execution_count": 3,
   "metadata": {
    "collapsed": false
   },
   "outputs": [
    {
     "name": "stdout",
     "output_type": "stream",
     "text": [
      "0.0076676\n",
      "0.0065599\n"
     ]
    }
   ],
   "source": [
    "# compare with BRAINT web T1 ground truth\n",
    "\n",
    "gtAtlasImage = '/Users/xiaoxiaoliu/work/data/BRATS/BRATS-2/Synthetic_Data/results/T1/MI/BrainWeb_UAB_MI/L0_Iter5_atlas.nrrd'\n",
    "\n",
    "inputIm = '/Users/xiaoxiaoliu/work/data/BRATS/BRATS-2/Synthetic_Data/results/T1/MI/UAB_T1_8Inputs_MI/L0_Iter5_atlas.nrrd'\n",
    "\n",
    "outTransformationPrefix = '/Users/xiaoxiaoliu/work/data/BRATS/BRATS-2/Synthetic_Data/results/compare_to_BrainWebT1/new_UAB_T1_8Inputs_MI'\n",
    "\n",
    "c = geodesicDistance3D(inputIm, gtAtlasImage,outTransformationPrefix )\n",
    "print c\n",
    "\n",
    "\n",
    "inputIm = '/Users/xiaoxiaoliu/work/data/BRATS/BRATS-2/Synthetic_Data/results/T1/MI/LAB_T1_8Inputs_MI/L0_Iter5_atlas.nrrd'\n",
    "outTransformationPrefix = '/Users/xiaoxiaoliu/work/data/BRATS/BRATS-2/Synthetic_Data/results/compare_to_BrainWebT1/new_LAB_T1_8Inputs_MI'\n",
    "\n",
    "d = geodesicDistance3D(inputIm, gtAtlasImage,outTransformationPrefix )\n",
    "print d\n"
   ]
  }
 ],
 "metadata": {
  "kernelspec": {
   "display_name": "Python 2",
   "language": "python",
   "name": "python2"
  },
  "language_info": {
   "codemirror_mode": {
    "name": "ipython",
    "version": 2
   },
   "file_extension": ".py",
   "mimetype": "text/x-python",
   "name": "python",
   "nbconvert_exporter": "python",
   "pygments_lexer": "ipython2",
   "version": "2.7.10"
  }
 },
 "nbformat": 4,
 "nbformat_minor": 0
}
