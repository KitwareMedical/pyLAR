{
 "cells": [
  {
   "cell_type": "markdown",
   "metadata": {},
   "source": [
    "**Data not available, this file only serves as an illustration.**\n",
    "\n",
    "Beware, if you run the cells, you will get errors and will loose the images.\n",
    "To avoid this problem, you could replace the input data names."
   ]
  },
  {
   "cell_type": "code",
   "execution_count": 2,
   "metadata": {
    "collapsed": false
   },
   "outputs": [],
   "source": [
    "import glob\n",
    "import sys\n",
    "import os.path\n",
    "sys.path.append('../')\n",
    "sys.path.append('../../')\n",
    "from low_rank_atlas_iter import *\n",
    "import SimpleITK as sitk"
   ]
  },
  {
   "cell_type": "code",
   "execution_count": 3,
   "metadata": {
    "collapsed": false
   },
   "outputs": [
    {
     "name": "stdout",
     "output_type": "stream",
     "text": [
      "0.018787\n",
      "0.016439\n"
     ]
    }
   ],
   "source": [
    "# Tumor Sim BRATS T1\n",
    "#  compare with BRAIN web T1 ground truth\n",
    "gtAtlasImage = '/Users/xiaoxiaoliu/work/data/BRATS/BRATS-2/Synthetic_Data/results/T1/MI/BrainWeb_UAB_MI/L0_Iter5_atlas.nrrd'\n",
    "inputIm = '/Users/xiaoxiaoliu/work/data/BRATS/BRATS-2/Synthetic_Data/results/T1/MI/UAB_T1_8Inputs_MI/L0_Iter5_atlas.nrrd'\n",
    "\n",
    "outTransformationPrefix = '/Users/xiaoxiaoliu/work/data/BRATS/BRATS-2/Synthetic_Data/results/UAB_T1_8Inputs_MI'\n",
    "\n",
    "c = geodesicDistance3D(inputIm, gtAtlasImage,outTransformationPrefix )\n",
    "print c\n",
    "\n",
    "\n",
    "inputIm = '/Users/xiaoxiaoliu/work/data/BRATS/BRATS-2/Synthetic_Data/results/T1/MI/LAB_T1_8Inputs_MI/L0_Iter5_atlas.nrrd'\n",
    "outTransformationPrefix = '/Users/xiaoxiaoliu/work/data/BRATS/BRATS-2/Synthetic_Data/results/LAB_T1_8Inputs_MI'\n",
    "\n",
    "d = geodesicDistance3D(inputIm, gtAtlasImage,outTransformationPrefix )\n",
    "print d\n"
   ]
  },
  {
   "cell_type": "code",
   "execution_count": 4,
   "metadata": {
    "collapsed": false
   },
   "outputs": [
    {
     "name": "stdout",
     "output_type": "stream",
     "text": [
      "0.01912\n",
      "0.018649\n"
     ]
    }
   ],
   "source": [
    "# Tumor Sim BRATS T1\n",
    "# compare with SRI24\n",
    "\n",
    "gtAtlasImage = '/Users/xiaoxiaoliu/work/data/SRI24/T1_Crop.nii.gz'\n",
    "\n",
    "inputIm = '/Users/xiaoxiaoliu/work/data/BRATS/BRATS-2/Synthetic_Data/results/T1/MI/UAB_T1_8Inputs_MI/L0_Iter5_atlas.nrrd'\n",
    "outTransformationPrefix = '/Users/xiaoxiaoliu/work/data/BRATS/BRATS-2/Synthetic_Data/results/SRI24_UAB_T1_8Inputs_MI'\n",
    "\n",
    "c = geodesicDistance3D(inputIm, gtAtlasImage,outTransformationPrefix )\n",
    "print c\n",
    "\n",
    "\n",
    "inputIm = '/Users/xiaoxiaoliu/work/data/BRATS/BRATS-2/Synthetic_Data/results/T1/MI/LAB_T1_8Inputs_MI/L0_Iter5_atlas.nrrd'\n",
    "outTransformationPrefix = '/Users/xiaoxiaoliu/work/data/BRATS/BRATS-2/Synthetic_Data/results/SRI24_LAB_T1_8Inputs_MI'\n",
    "\n",
    "d = geodesicDistance3D(inputIm, gtAtlasImage,outTransformationPrefix )\n",
    "print d\n"
   ]
  },
  {
   "cell_type": "code",
   "execution_count": 5,
   "metadata": {
    "collapsed": false
   },
   "outputs": [
    {
     "name": "stdout",
     "output_type": "stream",
     "text": [
      "0.012875\n",
      "0.011002\n"
     ]
    }
   ],
   "source": [
    "# Tumor Sim BRATS FLAIR\n",
    "# compare with brainweb t1 atlas, using MI\n",
    "gtAtlasImage = '/Users/xiaoxiaoliu/work/data/BRATS/BRATS-2/Synthetic_Data/results/T1/MI/BrainWeb_UAB_MI/L0_Iter5_atlas.nrrd'\n",
    "\n",
    "inputIm4 = '/Users/xiaoxiaoliu/work/data/BRATS/BRATS-2/Synthetic_Data/results/Flair/UAB_Flair_8Inputs_MI/L0_Iter5_atlas.nrrd'\n",
    "outTransformationPrefix4 = '/Users/xiaoxiaoliu/work/data/BRATS/BRATS-2/Synthetic_Data/results/UAB_Flair_8Inputs_MI'\n",
    "\n",
    "f = geodesicDistance3D(inputIm4, gtAtlasImage,outTransformationPrefix4 )\n",
    "print f\n",
    "\n",
    "inputIm3 = '/Users/xiaoxiaoliu/work/data/BRATS/BRATS-2/Synthetic_Data/results/Flair/LAB_Flair_8Inputs_MI/L0_Iter5_atlas.nrrd'\n",
    "outTransformationPrefix3 = '/Users/xiaoxiaoliu/work/data/BRATS/BRATS-2/Synthetic_Data/results/LAB_Flair_8Inputs_MI'\n",
    "\n",
    "e = geodesicDistance3D(inputIm3, gtAtlasImage,outTransformationPrefix3 )\n",
    "print e\n"
   ]
  },
  {
   "cell_type": "code",
   "execution_count": 7,
   "metadata": {
    "collapsed": false
   },
   "outputs": [
    {
     "name": "stdout",
     "output_type": "stream",
     "text": [
      "0.015542\n",
      "0.015539\n"
     ]
    }
   ],
   "source": [
    "# Tumor Sim BRATS FLAIR\n",
    "# compare with SRI24, using MI\n",
    "gtAtlasImage = '/Users/xiaoxiaoliu/work/data/SRI24/T1_Crop.nii.gz'\n",
    "\n",
    "inputIm4 = '/Users/xiaoxiaoliu/work/data/BRATS/BRATS-2/Synthetic_Data/results/Flair/UAB_Flair_8Inputs_MI/L0_Iter5_atlas.nrrd'\n",
    "outTransformationPrefix4 = '/Users/xiaoxiaoliu/work/data/BRATS/BRATS-2/Synthetic_Data/results/UAB_Flair_8Inputs_MI'\n",
    "\n",
    "f = geodesicDistance3D(inputIm4, gtAtlasImage,outTransformationPrefix4 )\n",
    "print f\n",
    "\n",
    "inputIm3 = '/Users/xiaoxiaoliu/work/data/BRATS/BRATS-2/Synthetic_Data/results/Flair/LAB_Flair_8Inputs_MI/L0_Iter5_atlas.nrrd'\n",
    "outTransformationPrefix3 = '/Users/xiaoxiaoliu/work/data/BRATS/BRATS-2/Synthetic_Data/results/LAB_Flair_8Inputs_MI'\n",
    "\n",
    "e = geodesicDistance3D(inputIm3, gtAtlasImage,outTransformationPrefix3 )\n",
    "print e"
   ]
  },
  {
   "cell_type": "code",
   "execution_count": 6,
   "metadata": {
    "collapsed": false
   },
   "outputs": [
    {
     "name": "stdout",
     "output_type": "stream",
     "text": [
      "0.01702\n",
      "0.017402\n"
     ]
    }
   ],
   "source": [
    "# real patient\n",
    "\n",
    "gtAtlasImage = '/Users/xiaoxiaoliu/work/data/SRI24/T1_Crop.nii.gz'\n",
    "#inputIm5 = '/Users/xiaoxiaoliu/work/data/BRATS/BRATS-2/Image_Data/results/LAB_ANTS_MI_FLAIR/L0_Iter5_atlas.nrrd'\n",
    "\n",
    "#outTransformationPrefix5 = '/Users/xiaoxiaoliu/work/data/BRATS/BRATS-2/Image_Data/results/LAB_ANTS_MI_FLAIR'\n",
    "\n",
    "#a = geodesicDistance3D(inputIm5, gtAtlasImage,outTransformationPrefix5 )\n",
    "#print a\n",
    "\n",
    "\n",
    "inputIm6 = '/Users/xiaoxiaoliu/work/data/BRATS/BRATS-2/Image_Data/results/UAB_Flair_SSD/L0_Iter4_atlas.nrrd'\n",
    "outTransformationPrefix6 = '/Users/xiaoxiaoliu/work/data/BRATS/BRATS-2/Image_Data/results/UAB_Flair_SSD'\n",
    "\n",
    "b = geodesicDistance3D(inputIm6, gtAtlasImage,outTransformationPrefix6)\n",
    "print b\n",
    "\n",
    "\n",
    "inputIm6 = '/Users/xiaoxiaoliu/work/data/BRATS/BRATS-2/Image_Data/results/LAB_ANTS_SSD_FLAIR/L0_Iter5_atlas.nrrd'\n",
    "outTransformationPrefix6 = '/Users/xiaoxiaoliu/work/data/BRATS/BRATS-2/Image_Data/results/LAB_ANTS_SSD_FLAIR'\n",
    "gtAtlasImage = '/Users/xiaoxiaoliu/work/data/SRI24/T1_Crop.nii.gz'\n",
    "b = geodesicDistance3D(inputIm6, gtAtlasImage,outTransformationPrefix6)\n",
    "print b\n",
    "\n"
   ]
  }
 ],
 "metadata": {
  "kernelspec": {
   "display_name": "Python 2",
   "language": "python",
   "name": "python2"
  },
  "language_info": {
   "codemirror_mode": {
    "name": "ipython",
    "version": 2
   },
   "file_extension": ".py",
   "mimetype": "text/x-python",
   "name": "python",
   "nbconvert_exporter": "python",
   "pygments_lexer": "ipython2",
   "version": "2.7.10"
  }
 },
 "nbformat": 4,
 "nbformat_minor": 0
}
