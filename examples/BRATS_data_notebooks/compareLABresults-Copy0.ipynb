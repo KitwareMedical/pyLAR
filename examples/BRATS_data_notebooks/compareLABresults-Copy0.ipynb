{
 "cells": [
  {
   "cell_type": "markdown",
   "metadata": {},
   "source": [
    "**Data not available, this file only serves as an illustration.**\n",
    "\n",
    "Beware, if you run the cells, you will get errors and will loose the images.\n",
    "To avoid this problem, you could replace the input data names."
   ]
  },
  {
   "cell_type": "code",
   "execution_count": 16,
   "metadata": {
    "collapsed": false
   },
   "outputs": [],
   "source": [
    "import glob\n",
    "import sys\n",
    "import os.path\n",
    "sys.path.append('../')\n",
    "sys.path.append('../../')\n",
    "from low_rank_atlas_iter import *\n",
    "import SimpleITK as sitk"
   ]
  },
  {
   "cell_type": "code",
   "execution_count": 17,
   "metadata": {
    "collapsed": false
   },
   "outputs": [
    {
     "name": "stdout",
     "output_type": "stream",
     "text": [
      "0.012004\n",
      "0.01169\n"
     ]
    }
   ],
   "source": [
    "# Tumor Sim BRATS T1\n",
    "#  compare with BRAIN web T1 ground truth\n",
    "gtAtlasImage = '/Users/xiaoxiaoliu/work/data/BRATS/BRATS-2/Synthetic_Data/results/T1/MI/BrainWeb_UAB_MI/L0_Iter5_atlas.nrrd'\n",
    "inputIm = '/Users/xiaoxiaoliu/work/data/BRATS/BRATS-2/Synthetic_Data/results/T1/MI/UAB_T1_8Inputs_MI/L0_Iter5_atlas.nrrd'\n",
    "\n",
    "outTransformationPrefix = '/Users/xiaoxiaoliu/work/data/BRATS/BRATS-2/Synthetic_Data/results/UAB_T1_8Inputs_MI'\n",
    "\n",
    "c = geodesicDistance3D(inputIm, gtAtlasImage,outTransformationPrefix )\n",
    "print c\n",
    "\n",
    "\n",
    "inputIm = '/Users/xiaoxiaoliu/work/data/BRATS/BRATS-2/Synthetic_Data/results/T1/MI/LAB_T1_8Inputs_MI/L0_Iter5_atlas.nrrd'\n",
    "outTransformationPrefix = '/Users/xiaoxiaoliu/work/data/BRATS/BRATS-2/Synthetic_Data/results/LAB_T1_8Inputs_MI'\n",
    "\n",
    "d = geodesicDistance3D(inputIm, gtAtlasImage,outTransformationPrefix )\n",
    "print d\n"
   ]
  },
  {
   "cell_type": "code",
   "execution_count": 18,
   "metadata": {
    "collapsed": false
   },
   "outputs": [
    {
     "name": "stdout",
     "output_type": "stream",
     "text": [
      "0.01183\n",
      "0.010048\n"
     ]
    }
   ],
   "source": [
    "# Tumor Sim BRATS T1\n",
    "# compare with SRI24\n",
    "\n",
    "gtAtlasImage = '/Users/xiaoxiaoliu/work/data/SRI24/T1_Crop.nii.gz'\n",
    "\n",
    "inputIm = '/Users/xiaoxiaoliu/work/data/BRATS/BRATS-2/Synthetic_Data/results/T1/MI/UAB_T1_8Inputs_MI/L0_Iter5_atlas.nrrd'\n",
    "outTransformationPrefix = '/Users/xiaoxiaoliu/work/data/BRATS/BRATS-2/Synthetic_Data/results/SRI24_UAB_T1_8Inputs_MI'\n",
    "\n",
    "c = geodesicDistance3D(inputIm, gtAtlasImage,outTransformationPrefix )\n",
    "print c\n",
    "\n",
    "\n",
    "inputIm = '/Users/xiaoxiaoliu/work/data/BRATS/BRATS-2/Synthetic_Data/results/T1/MI/LAB_T1_8Inputs_MI/L0_Iter5_atlas.nrrd'\n",
    "outTransformationPrefix = '/Users/xiaoxiaoliu/work/data/BRATS/BRATS-2/Synthetic_Data/results/SRI24_LAB_T1_8Inputs_MI'\n",
    "\n",
    "d = geodesicDistance3D(inputIm, gtAtlasImage,outTransformationPrefix )\n",
    "print d\n"
   ]
  },
  {
   "cell_type": "code",
   "execution_count": 23,
   "metadata": {
    "collapsed": false
   },
   "outputs": [
    {
     "name": "stdout",
     "output_type": "stream",
     "text": [
      "0.011103\n",
      "0.012165\n"
     ]
    }
   ],
   "source": [
    "# Tumorsim BRATS  T1 20 inputs\n",
    "gtAtlasImage = '/Users/xiaoxiaoliu/work/data/BRATS/BRATS-2/Synthetic_Data/results/T1/MI/BrainWeb_UAB_MI/L0_Iter5_atlas.nrrd'\n",
    "\n",
    "inputIm = '/Users/xiaoxiaoliu/work/data/BRATS/BRATS-2/Synthetic_Data/results/T1/LAB_T1_20Inputs_MI/L0_Iter5_atlas.nrrd'\n",
    "\n",
    "outTransformationPrefix = '/Users/xiaoxiaoliu/work/data/BRATS/BRATS-2/Synthetic_Data/results/LAB_T1_20Inputs_MI'\n",
    "h = geodesicDistance3D(inputIm, gtAtlasImage,outTransformationPrefix )\n",
    "print h\n",
    "\n",
    "inputIm = '/Users/xiaoxiaoliu/work/data/BRATS/BRATS-2/Synthetic_Data/results/T1/UAB_T1_20Inputs_MI/L0_Iter5_atlas.nrrd'\n",
    "outTransformationPrefix = '/Users/xiaoxiaoliu/work/data/BRATS/BRATS-2/Synthetic_Data/results/UAB_T1_20Inputs_MI'\n",
    "i = geodesicDistance3D(inputIm, gtAtlasImage,outTransformationPrefix )\n",
    "print i"
   ]
  },
  {
   "cell_type": "code",
   "execution_count": 24,
   "metadata": {
    "collapsed": false
   },
   "outputs": [
    {
     "name": "stdout",
     "output_type": "stream",
     "text": [
      "0.010608\n",
      "0.010712\n"
     ]
    }
   ],
   "source": [
    "# Tumorsim BRATS  T1 20 inputs\n",
    "# compare to SRI24\n",
    "\n",
    "gtAtlasImage = '/Users/xiaoxiaoliu/work/data/SRI24/T1_Crop.nii.gz'\n",
    "inputIm = '/Users/xiaoxiaoliu/work/data/BRATS/BRATS-2/Synthetic_Data/results/T1/LAB_T1_20Inputs_MI/L0_Iter5_atlas.nrrd'\n",
    "\n",
    "outTransformationPrefix = '/Users/xiaoxiaoliu/work/data/BRATS/BRATS-2/Synthetic_Data/results/SRI24_LAB_T1_20Inputs_MI'\n",
    "h = geodesicDistance3D(inputIm, gtAtlasImage,outTransformationPrefix )\n",
    "print h\n",
    "\n",
    "inputIm = '/Users/xiaoxiaoliu/work/data/BRATS/BRATS-2/Synthetic_Data/results/T1/UAB_T1_20Inputs_MI/L0_Iter5_atlas.nrrd'\n",
    "outTransformationPrefix = '/Users/xiaoxiaoliu/work/data/BRATS/BRATS-2/Synthetic_Data/results/SRI24_UAB_T1_20Inputs_MI'\n",
    "i = geodesicDistance3D(inputIm, gtAtlasImage,outTransformationPrefix )\n",
    "print i"
   ]
  },
  {
   "cell_type": "code",
   "execution_count": 21,
   "metadata": {
    "collapsed": false
   },
   "outputs": [
    {
     "name": "stdout",
     "output_type": "stream",
     "text": [
      "0.008238\n",
      "0.0075664\n"
     ]
    }
   ],
   "source": [
    "# Tumor Sim BRATS FLAIR\n",
    "# compare with brainweb t1 atlas, using MI\n",
    "gtAtlasImage = '/Users/xiaoxiaoliu/work/data/BRATS/BRATS-2/Synthetic_Data/results/T1/MI/BrainWeb_UAB_MI/L0_Iter5_atlas.nrrd'\n",
    "\n",
    "inputIm4 = '/Users/xiaoxiaoliu/work/data/BRATS/BRATS-2/Synthetic_Data/results/Flair/UAB_Flair_8Inputs_MI/L0_Iter5_atlas.nrrd'\n",
    "outTransformationPrefix4 = '/Users/xiaoxiaoliu/work/data/BRATS/BRATS-2/Synthetic_Data/results/UAB_Flair_8Inputs_MI'\n",
    "\n",
    "f = geodesicDistance3D(inputIm4, gtAtlasImage,outTransformationPrefix4 )\n",
    "print f\n",
    "\n",
    "inputIm3 = '/Users/xiaoxiaoliu/work/data/BRATS/BRATS-2/Synthetic_Data/results/Flair/LAB_Flair_8Inputs_MI/L0_Iter5_atlas.nrrd'\n",
    "outTransformationPrefix3 = '/Users/xiaoxiaoliu/work/data/BRATS/BRATS-2/Synthetic_Data/results/LAB_Flair_8Inputs_MI'\n",
    "\n",
    "e = geodesicDistance3D(inputIm3, gtAtlasImage,outTransformationPrefix3 )\n",
    "print e\n"
   ]
  },
  {
   "cell_type": "code",
   "execution_count": 22,
   "metadata": {
    "collapsed": false
   },
   "outputs": [
    {
     "name": "stdout",
     "output_type": "stream",
     "text": [
      "0.0078327\n",
      "0.010282\n"
     ]
    }
   ],
   "source": [
    "# real patient\n",
    "\n",
    "gtAtlasImage = '/Users/xiaoxiaoliu/work/data/SRI24/T1_Crop.nii.gz'\n",
    "#inputIm5 = '/Users/xiaoxiaoliu/work/data/BRATS/BRATS-2/Image_Data/results/LAB_ANTS_MI_FLAIR/L0_Iter5_atlas.nrrd'\n",
    "\n",
    "#outTransformationPrefix5 = '/Users/xiaoxiaoliu/work/data/BRATS/BRATS-2/Image_Data/results/LAB_ANTS_MI_FLAIR'\n",
    "\n",
    "#a = geodesicDistance3D(inputIm5, gtAtlasImage,outTransformationPrefix5 )\n",
    "#print a\n",
    "\n",
    "\n",
    "inputIm6 = '/Users/xiaoxiaoliu/work/data/BRATS/BRATS-2/Image_Data/results/UAB_Flair_SSD/L0_Iter4_atlas.nrrd'\n",
    "outTransformationPrefix6 = '/Users/xiaoxiaoliu/work/data/BRATS/BRATS-2/Image_Data/results/UAB_Flair_SSD'\n",
    "\n",
    "b = geodesicDistance3D(inputIm6, gtAtlasImage,outTransformationPrefix6)\n",
    "print b\n",
    "\n",
    "\n",
    "inputIm6 = '/Users/xiaoxiaoliu/work/data/BRATS/BRATS-2/Image_Data/results/LAB_ANTS_SSD_FLAIR/L0_Iter5_atlas.nrrd'\n",
    "outTransformationPrefix6 = '/Users/xiaoxiaoliu/work/data/BRATS/BRATS-2/Image_Data/results/LAB_ANTS_SSD_FLAIR'\n",
    "gtAtlasImage = '/Users/xiaoxiaoliu/work/data/SRI24/T1_Crop.nii.gz'\n",
    "b = geodesicDistance3D(inputIm6, gtAtlasImage,outTransformationPrefix6)\n",
    "print b\n",
    "\n"
   ]
  }
 ],
 "metadata": {
  "kernelspec": {
   "display_name": "Python 2",
   "language": "python",
   "name": "python2"
  },
  "language_info": {
   "codemirror_mode": {
    "name": "ipython",
    "version": 2
   },
   "file_extension": ".py",
   "mimetype": "text/x-python",
   "name": "python",
   "nbconvert_exporter": "python",
   "pygments_lexer": "ipython2",
   "version": "2.7.10"
  }
 },
 "nbformat": 4,
 "nbformat_minor": 0
}
